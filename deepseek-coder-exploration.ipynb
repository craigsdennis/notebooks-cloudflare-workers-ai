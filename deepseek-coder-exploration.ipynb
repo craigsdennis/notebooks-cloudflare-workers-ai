{
 "cells": [
  {
   "cell_type": "markdown",
   "id": "86410054-f81a-44bc-8cfb-54a6ab72014f",
   "metadata": {},
   "source": [
    "## Deepseek Coder\n",
    "\n",
    "The [Deepseek Coder](https://github.com/deepseek-ai/DeepSeek-Coder) models `@hf/thebloke/deepseek-coder-6.7b-base-awq` and `@hf/thebloke/deepseek-coder-6.7b-instruct-awq` are now available on [Workers AI](https://developers.cloudflare.com/workers-ai).\n",
    "\n",
    "Let's explore them using the API!"
   ]
  },
  {
   "cell_type": "code",
   "execution_count": 1,
   "id": "7ee34133-5861-4318-9a46-4af53572b6db",
   "metadata": {},
   "outputs": [
    {
     "name": "stdout",
     "output_type": "stream",
     "text": [
      "Requirement already satisfied: requests in ./venv/lib/python3.12/site-packages (2.31.0)\n",
      "Requirement already satisfied: python-dotenv in ./venv/lib/python3.12/site-packages (1.0.1)\n",
      "Requirement already satisfied: charset-normalizer<4,>=2 in ./venv/lib/python3.12/site-packages (from requests) (3.3.2)\n",
      "Requirement already satisfied: idna<4,>=2.5 in ./venv/lib/python3.12/site-packages (from requests) (3.6)\n",
      "Requirement already satisfied: urllib3<3,>=1.21.1 in ./venv/lib/python3.12/site-packages (from requests) (2.1.0)\n",
      "Requirement already satisfied: certifi>=2017.4.17 in ./venv/lib/python3.12/site-packages (from requests) (2023.11.17)\n"
     ]
    }
   ],
   "source": [
    "import sys\n",
    "!{sys.executable} -m pip install requests python-dotenv"
   ]
  },
  {
   "cell_type": "code",
   "execution_count": 2,
   "id": "e10739bd-5b40-4b3a-990d-539bd81a7362",
   "metadata": {},
   "outputs": [],
   "source": [
    "import os\n",
    "from getpass import getpass\n",
    "\n",
    "from IPython.display import display, Image, Markdown, Audio\n",
    "\n",
    "import requests"
   ]
  },
  {
   "cell_type": "code",
   "execution_count": 3,
   "id": "09b9bfb8-aa22-4b5e-a136-86362361689c",
   "metadata": {},
   "outputs": [],
   "source": [
    "%load_ext dotenv\n",
    "%dotenv"
   ]
  },
  {
   "cell_type": "code",
   "execution_count": 4,
   "id": "3cdfc295-064a-4cd6-90c5-ea81c4434b31",
   "metadata": {},
   "outputs": [],
   "source": [
    "if \"CLOUDFLARE_API_TOKEN\" in os.environ:\n",
    "    api_token = os.environ[\"CLOUDFLARE_API_TOKEN\"]\n",
    "else:\n",
    "    api_token = getpass(\"Enter you Cloudflare API Token\")"
   ]
  },
  {
   "cell_type": "code",
   "execution_count": 5,
   "id": "88f40f51-4aa9-41ee-a30c-3d168dfd8d44",
   "metadata": {},
   "outputs": [],
   "source": [
    "if \"CLOUDFLARE_ACCOUNT_ID\" in os.environ:\n",
    "    account_id = os.environ[\"CLOUDFLARE_ACCOUNT_ID\"]\n",
    "else:\n",
    "    account_id = getpass(\"Enter your account id\")"
   ]
  },
  {
   "cell_type": "markdown",
   "id": "cb6f0b33-2850-43dd-ade5-8324922ba398",
   "metadata": {},
   "source": [
    "### Generate code from a comment\n",
    "\n",
    "A common use case is to complete the code after the user has entered a comment describing what they are trying to build."
   ]
  },
  {
   "cell_type": "code",
   "execution_count": 38,
   "id": "c4dbffd9-f3c4-42d7-ab76-c9203066b0da",
   "metadata": {},
   "outputs": [
    {
     "data": {
      "text/markdown": [
       "\n",
       "```python\n",
       "# A function that checks if a given word is a palindrome\n",
       "\n",
       "\n",
       "def is_palindrome(word):\n",
       "    # Convert the word to lowercase\n",
       "    word = word.lower()\n",
       "\n",
       "    # Reverse the word\n",
       "    reversed_word = word[::-1]\n",
       "\n",
       "    # Check if the reversed word is the same as the original word\n",
       "    if word == reversed_word:\n",
       "        return True\n",
       "    else:\n",
       "        return False\n",
       "\n",
       "# Test the function\n",
       "print(is_palindrome(\"racecar\"))  # Output: True\n",
       "print(is_palindrome(\"hello\"))    # Output: False\n",
       "```\n"
      ],
      "text/plain": [
       "<IPython.core.display.Markdown object>"
      ]
     },
     "metadata": {},
     "output_type": "display_data"
    }
   ],
   "source": [
    "model = \"@hf/thebloke/deepseek-coder-6.7b-base-awq\"\n",
    "\n",
    "prompt = \"# A function that checks if a given word is a palindrome\"\n",
    "\n",
    "response = requests.post(\n",
    "    f\"https://api.cloudflare.com/client/v4/accounts/{account_id}/ai/run/{model}\",\n",
    "    headers={\"Authorization\": f\"Bearer {api_token}\"},\n",
    "    json={\"messages\": [\n",
    "        {\"role\": \"user\", \"content\": prompt}\n",
    "    ]}\n",
    ")\n",
    "inference = response.json()\n",
    "code = inference[\"result\"][\"response\"]\n",
    "\n",
    "display(Markdown(f\"\"\"\n",
    "```python\n",
    "{prompt}\n",
    "{code}\n",
    "```\n",
    "\"\"\"))"
   ]
  },
  {
   "cell_type": "markdown",
   "id": "dbfcf971-fb36-4886-8029-b8c72d7fa29b",
   "metadata": {},
   "source": [
    "### Assist in debugging\n",
    "\n",
    "We've all been there, and sometimes those stacktraces can be very intimidating."
   ]
  },
  {
   "cell_type": "code",
   "execution_count": 40,
   "id": "34a9db99-b799-4c07-8bb4-a7100a44dd02",
   "metadata": {},
   "outputs": [
    {
     "data": {
      "text/markdown": [
       "\n",
       "The variable name is not defined in the function. It should be \"first_name\" instead of \"name\". Here is the corrected code:\n",
       "\n",
       "```python\n",
       "# Welcomes our user\n",
       "def hello_world(first_name=\"World\"):\n",
       "    print(f\"Hello, {first_name}\")\n",
       "```\n",
       "\n",
       "You can call this function with a name as an argument like this:\n",
       "\n",
       "```python\n",
       "hello_world(\"John\")\n",
       "```\n",
       "\n",
       "This will print:\n",
       "\n",
       "```\n",
       "Hello, John\n",
       "```\n",
       "\n",
       "If you call the function without an argument, it will print:\n",
       "\n",
       "```python\n",
       "hello_world()\n",
       "```\n",
       "\n",
       "This will print:\n",
       "\n",
       "```\n",
       "Hello, World\n",
       "```\n",
       "\n"
      ],
      "text/plain": [
       "<IPython.core.display.Markdown object>"
      ]
     },
     "metadata": {},
     "output_type": "display_data"
    }
   ],
   "source": [
    "model = \"@hf/thebloke/deepseek-coder-6.7b-instruct-awq\"\n",
    "\n",
    "prompt = \"\"\"Tell the user how to correct the following code:\n",
    "\n",
    "# Welcomes our user\n",
    "def hello_world(first_name=\"World\"):\n",
    "    print(f\"Hello, {name}!\")\n",
    "\n",
    "\"\"\"\n",
    "\n",
    "response = requests.post(\n",
    "    f\"https://api.cloudflare.com/client/v4/accounts/{account_id}/ai/run/{model}\",\n",
    "    headers={\"Authorization\": f\"Bearer {api_token}\"},\n",
    "    json={\"messages\": [\n",
    "        {\"role\": \"user\", \"content\": prompt}\n",
    "    ]}\n",
    ")\n",
    "inference = response.json()\n",
    "response = inference[\"result\"][\"response\"]\n",
    "display(Markdown(response))"
   ]
  },
  {
   "cell_type": "markdown",
   "id": "63bc41c8-0a11-4123-bf17-ff5aa6f9a690",
   "metadata": {},
   "source": [
    "### Extract data into JSON\n",
    "\n",
    "No need to threaten the model or bring grandma into the prompt."
   ]
  },
  {
   "cell_type": "code",
   "execution_count": 70,
   "id": "8a6aa203-1e45-40c7-8dfd-cfee4ec9f03d",
   "metadata": {},
   "outputs": [
    {
     "data": {
      "text/markdown": [
       "\n",
       "```json\n",
       "{\n",
       "  \"firstName\": \"Craig\",\n",
       "  \"lastName\": \"Dennis\",\n",
       "  \"numKids\": 2,\n",
       "  \"interests\": [\"AI\", \"Tacos\", \"Burritos\", \"Cloudflare\"]\n",
       "}\n",
       "```\n"
      ],
      "text/plain": [
       "<IPython.core.display.Markdown object>"
      ]
     },
     "metadata": {},
     "output_type": "display_data"
    }
   ],
   "source": [
    "model = \"@hf/thebloke/deepseek-coder-6.7b-instruct-awq\"\n",
    "\n",
    "# https://json-schema.org/\n",
    "json_schema = \"\"\"\n",
    "{\n",
    "  \"title\": \"User\",\n",
    "  \"description\": \"A user from our example app\",\n",
    "  \"type\": \"object\",\n",
    "  \"properties\": {\n",
    "    \"firstName\": {\n",
    "      \"description\": \"The user's first name\",\n",
    "      \"type\": \"string\"\n",
    "    },\n",
    "    \"lastName\": {\n",
    "      \"description\": \"The user's last name\",\n",
    "      \"type\": \"string\"\n",
    "    },\n",
    "    \"numKids\": {\n",
    "      \"description\": \"Amount of children the user has currently\",\n",
    "      \"type\": \"integer\"\n",
    "    },\n",
    "    \"interests\": {\n",
    "      \"description\": \"A list of what the user has shown interest in\",\n",
    "      \"type\": \"array\",\n",
    "      \"items\": {\n",
    "        \"type\": \"string\"\n",
    "      }\n",
    "    },\n",
    "  },\n",
    "  \"required\": [ \"firstName\" ]\n",
    "}\n",
    "\"\"\"\n",
    "\n",
    "system_prompt = f\"\"\"\n",
    "The user is going to discuss themselves and you should create a JSON object from their description to match the json schema below. \n",
    "\n",
    "<BEGIN JSON SCHEMA>\n",
    "{json_schema}\n",
    "<END JSON SCHEMA>\n",
    "\n",
    "Return JSON only. Do not explain or provide usage examples.\n",
    "\"\"\"\n",
    "\n",
    "prompt = \"Hey there, I'm Craig Dennis and I'm a Developer Educator at Cloudflare. My email is craig@cloudflare.com. I am very interested in AI. I've got two kids. I love tacos, burritos, and all things Cloudflare\"\n",
    "\n",
    "response = requests.post(\n",
    "    f\"https://api.cloudflare.com/client/v4/accounts/{account_id}/ai/run/{model}\",\n",
    "    headers={\"Authorization\": f\"Bearer {api_token}\"},\n",
    "    json={\"messages\": [\n",
    "        {\"role\": \"system\", \"content\": system_prompt},\n",
    "        {\"role\": \"user\", \"content\": prompt}\n",
    "    ]}\n",
    ")\n",
    "inference = response.json()\n",
    "response = inference[\"result\"][\"response\"]\n",
    "display(Markdown(f\"\"\"\n",
    "```json\n",
    "{response.strip()}\n",
    "```\n",
    "\"\"\"))"
   ]
  },
  {
   "cell_type": "code",
   "execution_count": null,
   "id": "e4b582f1-9e24-45fc-bbdc-143c4a2513fc",
   "metadata": {},
   "outputs": [],
   "source": []
  },
  {
   "cell_type": "code",
   "execution_count": null,
   "id": "4d056bbc-cb68-46e4-8395-8b97b600fe91",
   "metadata": {},
   "outputs": [],
   "source": []
  },
  {
   "cell_type": "code",
   "execution_count": null,
   "id": "58b24597-6f1f-42f9-8ac6-667e31808296",
   "metadata": {},
   "outputs": [],
   "source": []
  },
  {
   "cell_type": "code",
   "execution_count": null,
   "id": "7367faf0-1336-4e82-aaa7-4607f2bf99f4",
   "metadata": {},
   "outputs": [],
   "source": []
  },
  {
   "cell_type": "code",
   "execution_count": null,
   "id": "5a62d19a-50fe-4988-ac27-511e58ce1a0c",
   "metadata": {},
   "outputs": [],
   "source": []
  },
  {
   "cell_type": "code",
   "execution_count": null,
   "id": "60551e7c-6cfd-4856-8f42-f256fa07652d",
   "metadata": {},
   "outputs": [],
   "source": []
  },
  {
   "cell_type": "code",
   "execution_count": null,
   "id": "ba980598-a6e3-4864-b6d2-5c0055c5e991",
   "metadata": {},
   "outputs": [],
   "source": []
  },
  {
   "cell_type": "code",
   "execution_count": null,
   "id": "196a06b6-6c7f-4ca9-bddb-4e2731cdba97",
   "metadata": {},
   "outputs": [],
   "source": []
  },
  {
   "cell_type": "code",
   "execution_count": null,
   "id": "b60d919a-b3c0-4ff7-8872-b8503bfd9094",
   "metadata": {},
   "outputs": [],
   "source": []
  },
  {
   "cell_type": "code",
   "execution_count": null,
   "id": "76638876-4895-476a-9959-b8cd1a5fa2df",
   "metadata": {},
   "outputs": [],
   "source": []
  },
  {
   "cell_type": "code",
   "execution_count": null,
   "id": "eb768f64-ae60-4b34-ac86-d20bb8941afe",
   "metadata": {},
   "outputs": [],
   "source": []
  },
  {
   "cell_type": "code",
   "execution_count": null,
   "id": "84dd8d95-c51a-4720-9a49-5f4783de135b",
   "metadata": {},
   "outputs": [],
   "source": []
  },
  {
   "cell_type": "code",
   "execution_count": null,
   "id": "1701c435-48e9-4368-951b-a51fb68310d7",
   "metadata": {},
   "outputs": [],
   "source": []
  },
  {
   "cell_type": "code",
   "execution_count": null,
   "id": "206b9178-5167-467f-979c-44e1fd00c81d",
   "metadata": {},
   "outputs": [],
   "source": []
  },
  {
   "cell_type": "code",
   "execution_count": null,
   "id": "0b09a072-0131-40c2-9aab-2170e555f335",
   "metadata": {},
   "outputs": [],
   "source": []
  },
  {
   "cell_type": "code",
   "execution_count": null,
   "id": "4c7d5838-efe1-40a5-b742-dfbb271842d4",
   "metadata": {},
   "outputs": [],
   "source": []
  },
  {
   "cell_type": "code",
   "execution_count": null,
   "id": "3b69822c-f0d6-43ee-a0b1-7d63c8a1e56c",
   "metadata": {},
   "outputs": [],
   "source": []
  },
  {
   "cell_type": "code",
   "execution_count": null,
   "id": "a06e3b10-bc03-4f0d-9f32-35cf945034d5",
   "metadata": {},
   "outputs": [],
   "source": []
  },
  {
   "cell_type": "code",
   "execution_count": null,
   "id": "7a967124-914c-4257-9be0-da6d08d90715",
   "metadata": {},
   "outputs": [],
   "source": []
  },
  {
   "cell_type": "code",
   "execution_count": null,
   "id": "a9271a31-5a47-4bb2-bb86-039cda63bc8a",
   "metadata": {},
   "outputs": [],
   "source": []
  },
  {
   "cell_type": "code",
   "execution_count": null,
   "id": "d7559749-faa7-4ac6-ac95-241108385107",
   "metadata": {},
   "outputs": [],
   "source": []
  },
  {
   "cell_type": "code",
   "execution_count": null,
   "id": "06251c23-9d5d-41b7-8d1a-a6acb5a4bd62",
   "metadata": {},
   "outputs": [],
   "source": []
  },
  {
   "cell_type": "code",
   "execution_count": null,
   "id": "f8f6ea04-78be-49ca-90af-b2667876d64b",
   "metadata": {},
   "outputs": [],
   "source": []
  },
  {
   "cell_type": "code",
   "execution_count": null,
   "id": "8eb7dda1-48a4-4320-878d-c29ba1f24a36",
   "metadata": {},
   "outputs": [],
   "source": []
  },
  {
   "cell_type": "code",
   "execution_count": null,
   "id": "b5acaf2f-88e8-45c1-bf87-013353ddd044",
   "metadata": {},
   "outputs": [],
   "source": []
  },
  {
   "cell_type": "code",
   "execution_count": null,
   "id": "a67ed6dd-ab5d-440e-b671-f0c3c3b5b4b4",
   "metadata": {},
   "outputs": [],
   "source": []
  },
  {
   "cell_type": "code",
   "execution_count": null,
   "id": "d4658ac4-c166-4a6f-928e-188c335771e9",
   "metadata": {},
   "outputs": [],
   "source": []
  },
  {
   "cell_type": "code",
   "execution_count": null,
   "id": "811b62dc-e9d4-4426-8404-e1975a0b58f4",
   "metadata": {},
   "outputs": [],
   "source": []
  },
  {
   "cell_type": "code",
   "execution_count": null,
   "id": "f8641465-f91d-4c89-ba1d-315e9a470f82",
   "metadata": {},
   "outputs": [],
   "source": []
  },
  {
   "cell_type": "code",
   "execution_count": null,
   "id": "58a94e7f-86a5-48ff-9c12-685a64afa5f2",
   "metadata": {},
   "outputs": [],
   "source": []
  },
  {
   "cell_type": "code",
   "execution_count": null,
   "id": "56c29b3d-c849-4b0f-a9f1-ebd54ec5b5c7",
   "metadata": {},
   "outputs": [],
   "source": []
  },
  {
   "cell_type": "code",
   "execution_count": null,
   "id": "fc2103c9-a6ac-40dd-b665-7d1a3628c5b6",
   "metadata": {},
   "outputs": [],
   "source": []
  },
  {
   "cell_type": "code",
   "execution_count": null,
   "id": "dbff4fff-3126-472a-9828-336154c2cecb",
   "metadata": {},
   "outputs": [],
   "source": []
  },
  {
   "cell_type": "code",
   "execution_count": null,
   "id": "106cb6ab-2fdc-4ed7-880e-d203cfe6bb19",
   "metadata": {},
   "outputs": [],
   "source": []
  },
  {
   "cell_type": "code",
   "execution_count": null,
   "id": "45567eb8-08bd-496e-8cee-528f34c78d12",
   "metadata": {},
   "outputs": [],
   "source": []
  },
  {
   "cell_type": "code",
   "execution_count": null,
   "id": "0d3473d2-9c40-4bba-ae36-203cefaaf020",
   "metadata": {},
   "outputs": [],
   "source": []
  },
  {
   "cell_type": "code",
   "execution_count": null,
   "id": "17572710-49ea-4cce-b27e-8f3ac29190f3",
   "metadata": {},
   "outputs": [],
   "source": []
  },
  {
   "cell_type": "code",
   "execution_count": null,
   "id": "4cb329c8-a376-4d5f-9980-0d85fe23274a",
   "metadata": {},
   "outputs": [],
   "source": []
  },
  {
   "cell_type": "code",
   "execution_count": null,
   "id": "4674166e-7740-48f0-af91-36ee238e28a1",
   "metadata": {},
   "outputs": [],
   "source": []
  },
  {
   "cell_type": "code",
   "execution_count": null,
   "id": "8ce3b919-ecb4-456d-892e-14e0f516001b",
   "metadata": {},
   "outputs": [],
   "source": []
  },
  {
   "cell_type": "code",
   "execution_count": null,
   "id": "396148be-c4d5-4765-bf83-e39e3444426a",
   "metadata": {},
   "outputs": [],
   "source": []
  },
  {
   "cell_type": "code",
   "execution_count": null,
   "id": "bf8f0edb-9605-4feb-93b7-0559b0a81a9c",
   "metadata": {},
   "outputs": [],
   "source": []
  },
  {
   "cell_type": "code",
   "execution_count": null,
   "id": "11c12eda-1bf6-402e-9452-5fdcf32404d6",
   "metadata": {},
   "outputs": [],
   "source": []
  },
  {
   "cell_type": "code",
   "execution_count": null,
   "id": "31d18010-870e-4eff-aa8b-c58f50170d13",
   "metadata": {},
   "outputs": [],
   "source": []
  },
  {
   "cell_type": "code",
   "execution_count": null,
   "id": "130ceb0d-a3fa-4e02-afae-970bf7c66205",
   "metadata": {},
   "outputs": [],
   "source": []
  },
  {
   "cell_type": "code",
   "execution_count": null,
   "id": "019b5707-9021-4cfd-82e8-745f19897741",
   "metadata": {},
   "outputs": [],
   "source": []
  },
  {
   "cell_type": "code",
   "execution_count": null,
   "id": "29a2a748-a41f-4d1a-8a74-60e14dcf22f3",
   "metadata": {},
   "outputs": [],
   "source": []
  },
  {
   "cell_type": "code",
   "execution_count": null,
   "id": "32a79317-5342-4143-873c-480509907b0d",
   "metadata": {},
   "outputs": [],
   "source": []
  },
  {
   "cell_type": "code",
   "execution_count": null,
   "id": "cd232e68-d4cd-4cb2-9cf3-ff4d4659e18e",
   "metadata": {},
   "outputs": [],
   "source": []
  },
  {
   "cell_type": "code",
   "execution_count": null,
   "id": "6b966259-04a6-475b-ac39-68fa7450d527",
   "metadata": {},
   "outputs": [],
   "source": []
  },
  {
   "cell_type": "code",
   "execution_count": null,
   "id": "acf7a62a-3fa5-4b92-83eb-616d27c0f4d0",
   "metadata": {},
   "outputs": [],
   "source": []
  },
  {
   "cell_type": "code",
   "execution_count": null,
   "id": "69ad6e12-1a28-42c5-b7c7-8d826f00f6a0",
   "metadata": {},
   "outputs": [],
   "source": []
  },
  {
   "cell_type": "code",
   "execution_count": null,
   "id": "7ce1445e-454d-40dd-853b-2ef6b2c6d475",
   "metadata": {},
   "outputs": [],
   "source": []
  },
  {
   "cell_type": "code",
   "execution_count": null,
   "id": "cee562b1-2c65-415b-ac4b-5d6ae8af0e32",
   "metadata": {},
   "outputs": [],
   "source": []
  },
  {
   "cell_type": "code",
   "execution_count": null,
   "id": "ccf068fe-078f-41aa-bddd-63c574f3f047",
   "metadata": {},
   "outputs": [],
   "source": []
  },
  {
   "cell_type": "code",
   "execution_count": null,
   "id": "6493221c-6577-495b-a6d8-c041a2553821",
   "metadata": {},
   "outputs": [],
   "source": []
  },
  {
   "cell_type": "code",
   "execution_count": null,
   "id": "0578b8ec-e30f-45f3-8559-f7d8fee47c21",
   "metadata": {},
   "outputs": [],
   "source": []
  },
  {
   "cell_type": "code",
   "execution_count": null,
   "id": "b1ac5524-9749-497c-93eb-13306560de59",
   "metadata": {},
   "outputs": [],
   "source": []
  }
 ],
 "metadata": {
  "kernelspec": {
   "display_name": "Python 3 (ipykernel)",
   "language": "python",
   "name": "python3"
  },
  "language_info": {
   "codemirror_mode": {
    "name": "ipython",
    "version": 3
   },
   "file_extension": ".py",
   "mimetype": "text/x-python",
   "name": "python",
   "nbconvert_exporter": "python",
   "pygments_lexer": "ipython3",
   "version": "3.12.1"
  }
 },
 "nbformat": 4,
 "nbformat_minor": 5
}
