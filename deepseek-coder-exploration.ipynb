{
 "cells": [
  {
   "cell_type": "markdown",
   "id": "86410054-f81a-44bc-8cfb-54a6ab72014f",
   "metadata": {},
   "source": [
    "## Deepseek Coder\n",
    "\n",
    "The [Deepseek Coder](https://github.com/deepseek-ai/DeepSeek-Coder) models `@hf/thebloke/deepseek-coder-6.7b-base-awq` and `@hf/thebloke/deepseek-coder-6.7b-instruct-awq` are now available on [Workers AI](https://developers.cloudflare.com/workers-ai).\n",
    "\n",
    "Let's explore them using the API!"
   ]
  },
  {
   "cell_type": "code",
   "execution_count": 1,
   "id": "7ee34133-5861-4318-9a46-4af53572b6db",
   "metadata": {},
   "outputs": [
    {
     "name": "stdout",
     "output_type": "stream",
     "text": [
      "Requirement already satisfied: requests in ./venv/lib/python3.12/site-packages (2.31.0)\n",
      "Requirement already satisfied: python-dotenv in ./venv/lib/python3.12/site-packages (1.0.1)\n",
      "Requirement already satisfied: charset-normalizer<4,>=2 in ./venv/lib/python3.12/site-packages (from requests) (3.3.2)\n",
      "Requirement already satisfied: idna<4,>=2.5 in ./venv/lib/python3.12/site-packages (from requests) (3.6)\n",
      "Requirement already satisfied: urllib3<3,>=1.21.1 in ./venv/lib/python3.12/site-packages (from requests) (2.1.0)\n",
      "Requirement already satisfied: certifi>=2017.4.17 in ./venv/lib/python3.12/site-packages (from requests) (2023.11.17)\n"
     ]
    }
   ],
   "source": [
    "import sys\n",
    "!{sys.executable} -m pip install requests python-dotenv"
   ]
  },
  {
   "cell_type": "code",
   "execution_count": 2,
   "id": "e10739bd-5b40-4b3a-990d-539bd81a7362",
   "metadata": {},
   "outputs": [],
   "source": [
    "import os\n",
    "from getpass import getpass\n",
    "\n",
    "from IPython.display import display, Image, Markdown, Audio\n",
    "\n",
    "import requests"
   ]
  },
  {
   "cell_type": "code",
   "execution_count": 3,
   "id": "09b9bfb8-aa22-4b5e-a136-86362361689c",
   "metadata": {},
   "outputs": [],
   "source": [
    "%load_ext dotenv\n",
    "%dotenv"
   ]
  },
  {
   "cell_type": "markdown",
   "id": "41090577-b5a5-444b-9670-cccdfee48082",
   "metadata": {},
   "source": [
    "### Configuring your environment\n",
    "\n",
    "To use the API you'll need your [Cloudflare Account ID](https://dash.cloudflare.com) (head to Workers & Pages > Overview > Account details > Account ID) and a [Workers AI enabled API Token](https://dash.cloudflare.com/profile/api-tokens).\n",
    "\n",
    "If you want to add these files to your environment, you can create a new file named `.env`\n",
    "\n",
    "```bash\n",
    "CLOUDFLARE_API_TOKEN=\"YOUR-TOKEN\"\n",
    "CLOUDFLARE_ACCOUNT_ID=\"YOUR-ACCOUNT-ID\"\n",
    "```"
   ]
  },
  {
   "cell_type": "code",
   "execution_count": 4,
   "id": "3cdfc295-064a-4cd6-90c5-ea81c4434b31",
   "metadata": {},
   "outputs": [],
   "source": [
    "if \"CLOUDFLARE_API_TOKEN\" in os.environ:\n",
    "    api_token = os.environ[\"CLOUDFLARE_API_TOKEN\"]\n",
    "else:\n",
    "    api_token = getpass(\"Enter you Cloudflare API Token\")"
   ]
  },
  {
   "cell_type": "code",
   "execution_count": 5,
   "id": "88f40f51-4aa9-41ee-a30c-3d168dfd8d44",
   "metadata": {},
   "outputs": [],
   "source": [
    "if \"CLOUDFLARE_ACCOUNT_ID\" in os.environ:\n",
    "    account_id = os.environ[\"CLOUDFLARE_ACCOUNT_ID\"]\n",
    "else:\n",
    "    account_id = getpass(\"Enter your account id\")"
   ]
  },
  {
   "cell_type": "markdown",
   "id": "cb6f0b33-2850-43dd-ade5-8324922ba398",
   "metadata": {},
   "source": [
    "### Generate code from a comment\n",
    "\n",
    "A common use case is to complete the code for the user after they write a descriptive comment."
   ]
  },
  {
   "cell_type": "code",
   "execution_count": 6,
   "id": "c4dbffd9-f3c4-42d7-ab76-c9203066b0da",
   "metadata": {},
   "outputs": [
    {
     "data": {
      "text/markdown": [
       "\n",
       "```python\n",
       "# A function that checks if a given word is a palindrome\n",
       "def is_palindrome(word):\n",
       "    # Convert the word to lowercase\n",
       "    word = word.lower()\n",
       "\n",
       "    # Reverse the word\n",
       "    reversed_word = word[::-1]\n",
       "\n",
       "    # Check if the reversed word is the same as the original word\n",
       "    if word == reversed_word:\n",
       "        return True\n",
       "    else:\n",
       "        return False\n",
       "\n",
       "# Test the function\n",
       "print(is_palindrome(\"racecar\"))  # Output: True\n",
       "print(is_palindrome(\"hello\"))    # Output: False\n",
       "```\n"
      ],
      "text/plain": [
       "<IPython.core.display.Markdown object>"
      ]
     },
     "metadata": {},
     "output_type": "display_data"
    }
   ],
   "source": [
    "model = \"@hf/thebloke/deepseek-coder-6.7b-base-awq\"\n",
    "\n",
    "prompt = \"# A function that checks if a given word is a palindrome\"\n",
    "\n",
    "response = requests.post(\n",
    "    f\"https://api.cloudflare.com/client/v4/accounts/{account_id}/ai/run/{model}\",\n",
    "    headers={\"Authorization\": f\"Bearer {api_token}\"},\n",
    "    json={\"messages\": [\n",
    "        {\"role\": \"user\", \"content\": prompt}\n",
    "    ]}\n",
    ")\n",
    "inference = response.json()\n",
    "code = inference[\"result\"][\"response\"]\n",
    "\n",
    "display(Markdown(f\"\"\"\n",
    "```python\n",
    "{prompt}\n",
    "{code.strip()}\n",
    "```\n",
    "\"\"\"))"
   ]
  },
  {
   "cell_type": "markdown",
   "id": "dbfcf971-fb36-4886-8029-b8c72d7fa29b",
   "metadata": {},
   "source": [
    "### Assist in debugging\n",
    "\n",
    "We've all been there, and sometimes those stacktraces can be very intimidating."
   ]
  },
  {
   "cell_type": "code",
   "execution_count": 7,
   "id": "34a9db99-b799-4c07-8bb4-a7100a44dd02",
   "metadata": {},
   "outputs": [
    {
     "data": {
      "text/markdown": [
       "The variable name is not defined in the function. It should be \"first_name\" instead of \"name\". Here is the corrected code:\n",
       "\n",
       "```python\n",
       "# Welcomes our user\n",
       "def hello_world(first_name=\"World\"):\n",
       "    print(f\"Hello, {first_name}\")\n",
       "```\n",
       "\n",
       "You can call this function with a name as an argument like this:\n",
       "\n",
       "```python\n",
       "hello_world(\"John\")\n",
       "```\n",
       "\n",
       "This will print:\n",
       "\n",
       "```\n",
       "Hello, John\n",
       "```\n",
       "\n",
       "If you call the function without an argument, it will print:\n",
       "\n",
       "```python\n",
       "hello_world()\n",
       "```\n",
       "\n",
       "This will print:\n",
       "\n",
       "```\n",
       "Hello, World\n",
       "```\n"
      ],
      "text/plain": [
       "<IPython.core.display.Markdown object>"
      ]
     },
     "metadata": {},
     "output_type": "display_data"
    }
   ],
   "source": [
    "model = \"@hf/thebloke/deepseek-coder-6.7b-instruct-awq\"\n",
    "\n",
    "prompt = \"\"\"Tell the user how to correct the following code:\n",
    "\n",
    "# Welcomes our user\n",
    "def hello_world(first_name=\"World\"):\n",
    "    print(f\"Hello, {name}!\")\n",
    "\n",
    "\"\"\"\n",
    "\n",
    "response = requests.post(\n",
    "    f\"https://api.cloudflare.com/client/v4/accounts/{account_id}/ai/run/{model}\",\n",
    "    headers={\"Authorization\": f\"Bearer {api_token}\"},\n",
    "    json={\"messages\": [\n",
    "        {\"role\": \"user\", \"content\": prompt}\n",
    "    ]}\n",
    ")\n",
    "inference = response.json()\n",
    "response = inference[\"result\"][\"response\"]\n",
    "display(Markdown(response))"
   ]
  },
  {
   "cell_type": "markdown",
   "id": "63bc41c8-0a11-4123-bf17-ff5aa6f9a690",
   "metadata": {},
   "source": [
    "### Extract data into JSON\n",
    "\n",
    "No need to threaten the model or bring grandma into the prompt."
   ]
  },
  {
   "cell_type": "code",
   "execution_count": 9,
   "id": "8a6aa203-1e45-40c7-8dfd-cfee4ec9f03d",
   "metadata": {},
   "outputs": [
    {
     "data": {
      "text/markdown": [
       "\n",
       "```json\n",
       "{\n",
       "  \"firstName\": \"Craig\",\n",
       "  \"lastName\": \"Dennis\",\n",
       "  \"numKids\": 2,\n",
       "  \"interests\": [\"AI\", \"Cloudflare\", \"Tacos\", \"Burritos\"]\n",
       "}\n",
       "```\n"
      ],
      "text/plain": [
       "<IPython.core.display.Markdown object>"
      ]
     },
     "metadata": {},
     "output_type": "display_data"
    }
   ],
   "source": [
    "model = \"@hf/thebloke/deepseek-coder-6.7b-instruct-awq\"\n",
    "\n",
    "# Learn more at https://json-schema.org/\n",
    "json_schema = \"\"\"\n",
    "{\n",
    "  \"title\": \"User\",\n",
    "  \"description\": \"A user from our example app\",\n",
    "  \"type\": \"object\",\n",
    "  \"properties\": {\n",
    "    \"firstName\": {\n",
    "      \"description\": \"The user's first name\",\n",
    "      \"type\": \"string\"\n",
    "    },\n",
    "    \"lastName\": {\n",
    "      \"description\": \"The user's last name\",\n",
    "      \"type\": \"string\"\n",
    "    },\n",
    "    \"numKids\": {\n",
    "      \"description\": \"Amount of children the user has currently\",\n",
    "      \"type\": \"integer\"\n",
    "    },\n",
    "    \"interests\": {\n",
    "      \"description\": \"A list of what the user has shown interest in\",\n",
    "      \"type\": \"array\",\n",
    "      \"items\": {\n",
    "        \"type\": \"string\"\n",
    "      }\n",
    "    },\n",
    "  },\n",
    "  \"required\": [ \"firstName\" ]\n",
    "}\n",
    "\"\"\"\n",
    "\n",
    "system_prompt = f\"\"\"\n",
    "The user is going to discuss themselves and you should create a JSON object from their description to match the json schema below. \n",
    "\n",
    "<BEGIN JSON SCHEMA>\n",
    "{json_schema}\n",
    "<END JSON SCHEMA>\n",
    "\n",
    "Return JSON only. Do not explain or provide usage examples.\n",
    "\"\"\"\n",
    "\n",
    "prompt = \"\"\"Hey there, I'm Craig Dennis and I'm a Developer Educator at Cloudflare. My email is craig@cloudflare.com. \n",
    "            I am very interested in AI. I've got two kids. I love tacos, burritos, and all things Cloudflare\"\"\"\n",
    "\n",
    "response = requests.post(\n",
    "    f\"https://api.cloudflare.com/client/v4/accounts/{account_id}/ai/run/{model}\",\n",
    "    headers={\"Authorization\": f\"Bearer {api_token}\"},\n",
    "    json={\"messages\": [\n",
    "        {\"role\": \"system\", \"content\": system_prompt},\n",
    "        {\"role\": \"user\", \"content\": prompt}\n",
    "    ]}\n",
    ")\n",
    "inference = response.json()\n",
    "response = inference[\"result\"][\"response\"]\n",
    "display(Markdown(f\"\"\"\n",
    "```json\n",
    "{response.strip()}\n",
    "```\n",
    "\"\"\"))"
   ]
  },
  {
   "cell_type": "code",
   "execution_count": null,
   "id": "e4b582f1-9e24-45fc-bbdc-143c4a2513fc",
   "metadata": {},
   "outputs": [],
   "source": []
  }
 ],
 "metadata": {
  "kernelspec": {
   "display_name": "Python 3 (ipykernel)",
   "language": "python",
   "name": "python3"
  },
  "language_info": {
   "codemirror_mode": {
    "name": "ipython",
    "version": 3
   },
   "file_extension": ".py",
   "mimetype": "text/x-python",
   "name": "python",
   "nbconvert_exporter": "python",
   "pygments_lexer": "ipython3",
   "version": "3.12.1"
  }
 },
 "nbformat": 4,
 "nbformat_minor": 5
}
