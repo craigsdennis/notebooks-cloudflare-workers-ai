{
 "cells": [
  {
   "cell_type": "code",
   "execution_count": 1,
   "id": "90a264f5-efc8-4039-b6bf-59540814757c",
   "metadata": {},
   "outputs": [],
   "source": [
    "import os\n",
    "\n",
    "from IPython.display import display, Image, Markdown\n",
    "from getpass import getpass\n",
    "\n",
    "import requests"
   ]
  },
  {
   "cell_type": "code",
   "execution_count": 2,
   "id": "5839c043-3602-40e5-859b-6df3c152e80b",
   "metadata": {},
   "outputs": [],
   "source": [
    "%load_ext dotenv\n",
    "%dotenv"
   ]
  },
  {
   "cell_type": "code",
   "execution_count": 3,
   "id": "a09ddfa5-941d-4492-8614-627e3b99a3a9",
   "metadata": {},
   "outputs": [],
   "source": [
    "if \"CLOUDFLARE_API_TOKEN\" in os.environ:\n",
    "    api_token = os.environ[\"CLOUDFLARE_API_TOKEN\"]\n",
    "else:\n",
    "    api_token = getpass(\"Enter you Cloudflare API Token\")"
   ]
  },
  {
   "cell_type": "code",
   "execution_count": 4,
   "id": "3e8962ed-0851-48b8-98a2-75cba609e250",
   "metadata": {},
   "outputs": [],
   "source": [
    "if \"CLOUDFLARE_ACCOUNT_ID\" in os.environ:\n",
    "    account_id = os.environ[\"CLOUDFLARE_ACCOUNT_ID\"]\n",
    "else:\n",
    "    account_id = getpass(\"Enter your account id\")"
   ]
  },
  {
   "cell_type": "markdown",
   "id": "02f19dae-7b11-4256-90cd-a0e22558eeae",
   "metadata": {},
   "source": [
    "## Text Generation"
   ]
  },
  {
   "cell_type": "code",
   "execution_count": 5,
   "id": "01377468-dae2-482f-9e58-e44841473ee7",
   "metadata": {},
   "outputs": [
    {
     "data": {
      "text/markdown": [
       "Great question! 😊\n",
       "\n",
       "### Mac Users:\n",
       "\n",
       "To execute cells using keyboard shortcuts on a Mac, you can use the following combinations:\n",
       "\n",
       "| Shortcut | Description |\n",
       "| --- | --- |\n",
       "| `Ctrl + Enter` | Execute the current cell. |\n",
       "| `Shift + Enter` | Execute the current cell and move to the next cell. |\n",
       "| `Cmd + Enter` | Execute the current cell and move to the next cell. (Only works in Jupyter Notebook 1.0 and later.) |\n",
       "\n",
       "### Windows Users:\n",
       "\n",
       "On Windows, you can use the following keyboard shortcuts to execute cells:\n",
       "\n",
       "| Shortcut | Description |\n",
       "| --- | --- |\n",
       "| `Ctrl + Enter` | Execute the current cell. |\n",
       "| `Shift + Enter` | Execute the current cell and move to the next cell. |\n",
       "| `Shift + Ctrl + Enter` | Execute the current cell and move to the next cell without leaving the cell. |\n",
       "\n",
       "Tips:\n",
       "\n",
       "* You can also use the `F5` key to execute the current cell on both Mac and Windows.\n",
       "*"
      ],
      "text/plain": [
       "<IPython.core.display.Markdown object>"
      ]
     },
     "metadata": {},
     "output_type": "display_data"
    }
   ],
   "source": [
    "model = \"@cf/meta/llama-2-7b-chat-int8\" \n",
    "#model = \"@cf/mistral/mistral-7b-instruct-v0.1\" \n",
    "\n",
    "response = requests.post(\n",
    "    f\"https://api.cloudflare.com/client/v4/accounts/{account_id}/ai/run/{model}\",\n",
    "    headers={\"Authorization\": f\"Bearer {api_token}\"},\n",
    "    json={\"messages\": [\n",
    "        {\"role\": \"system\", \"content\": \"You are a productivity assistant for users of Jupyter notebooks for both Mac and Windows users. Respond in Markdown.\"},\n",
    "        {\"role\": \"user\", \"content\": \"How do I use keyboard shortcuts to execute cells?\"}\n",
    "    ]}\n",
    ")\n",
    "\n",
    "inference = response.json()\n",
    "display(Markdown(inference[\"result\"][\"response\"]))"
   ]
  },
  {
   "cell_type": "markdown",
   "id": "58cebbdb-e29f-44ce-9b53-bb02d66f4f53",
   "metadata": {},
   "source": [
    "## Text to Image"
   ]
  },
  {
   "cell_type": "code",
   "execution_count": null,
   "id": "53390f9b-00e9-4a08-916c-d016a784c309",
   "metadata": {},
   "outputs": [],
   "source": [
    "model = \"@cf/stabilityai/stable-diffusion-xl-base-1.0\"\n",
    "\n",
    "response = requests.post(\n",
    "    f\"https://api.cloudflare.com/client/v4/accounts/{account_id}/ai/run/{model}\",\n",
    "    headers={\"Authorization\": f\"Bearer {api_token}\"},\n",
    "    json={\"prompt\": \"A pencil drawing of an excited developer using an API\"}\n",
    ")\n",
    "\n",
    "display(Image(response.content))"
   ]
  },
  {
   "cell_type": "markdown",
   "id": "d0ce9ec1-81d4-4b16-aca9-67d4a5658853",
   "metadata": {},
   "source": [
    "## Translations"
   ]
  },
  {
   "cell_type": "code",
   "execution_count": null,
   "id": "dc11d9e8-0f62-4560-845b-740d29bc57df",
   "metadata": {},
   "outputs": [],
   "source": [
    "model = \"@cf/meta/m2m100-1.2b\"\n",
    "\n",
    "response = requests.post(\n",
    "    f\"https://api.cloudflare.com/client/v4/accounts/{account_id}/ai/run/{model}\",\n",
    "    headers={\"Authorization\": f\"Bearer {api_token}\"},\n",
    "    json={\n",
    "        \"text\": \"Artificial intelligence is pretty impressive these days. What do you think?\",\n",
    "        \"source_lang\": \"english\",\n",
    "        \"target_lang\": \"spanish\"\n",
    "    }\n",
    ")\n",
    "\n",
    "inference = response.json()\n",
    "print(inference[\"result\"][\"translated_text\"])"
   ]
  },
  {
   "cell_type": "markdown",
   "id": "bf7544eb-51e8-441c-ad33-c084f6a6e554",
   "metadata": {},
   "source": [
    "## Text Classification"
   ]
  },
  {
   "cell_type": "code",
   "execution_count": null,
   "id": "e15ce7dc-94a5-42fc-998e-b1006dc7a46f",
   "metadata": {},
   "outputs": [],
   "source": [
    "model = \"@cf/huggingface/distilbert-sst-2-int8\"\n",
    "\n",
    "response = requests.post(\n",
    "    f\"https://api.cloudflare.com/client/v4/accounts/{account_id}/ai/run/{model}\",\n",
    "    headers={\"Authorization\": f\"Bearer {api_token}\"},\n",
    "    json={\"text\": \"This taco is delicious\"}\n",
    ")\n",
    "\n",
    "inference = response.json()\n",
    "inference[\"result\"]"
   ]
  },
  {
   "cell_type": "markdown",
   "id": "300cbeb4-d1da-425f-a4ca-5c2a657e699d",
   "metadata": {},
   "source": [
    "## Automatic Speech Recognition"
   ]
  },
  {
   "cell_type": "code",
   "execution_count": null,
   "id": "36772fde-50ba-46bc-be5a-1a6923d74c89",
   "metadata": {},
   "outputs": [],
   "source": [
    "model = \"@cf/openai/whisper\"\n",
    "\n",
    "# TODO: Record me talking about speech to text\n",
    "url = \"https://raw.githubusercontent.com/craigsdennis/notebooks-cloudflare-workers-ai/main/assets/craig-rambling.mp3\"\n",
    "audio = requests.get(url)\n",
    "\n",
    "response = requests.post(\n",
    "    f\"https://api.cloudflare.com/client/v4/accounts/{account_id}/ai/run/{model}\",\n",
    "    headers={\"Authorization\": f\"Bearer {api_token}\"},\n",
    "    data=audio.content\n",
    ")\n",
    "\n",
    "inference = response.json()\n",
    "inference"
   ]
  },
  {
   "cell_type": "markdown",
   "id": "d805d2e3-856e-4262-a49d-1f398ae730dc",
   "metadata": {},
   "source": [
    "## Image Classification"
   ]
  },
  {
   "cell_type": "code",
   "execution_count": null,
   "id": "feafc002-eff5-4bb2-9eb1-3093d9cec7f7",
   "metadata": {},
   "outputs": [],
   "source": [
    "model = \"@cf/microsoft/resnet-50\"\n",
    "\n",
    "url = \"https://raw.githubusercontent.com/craigsdennis/notebooks-cloudflare-workers-ai/main/assets/flickr-cc-tacos.jpg\"\n",
    "image_request = requests.get(url)\n",
    "\n",
    "display(Image(image_request.content, format=\"jpg\"))\n",
    "response = requests.post(\n",
    "    f\"https://api.cloudflare.com/client/v4/accounts/{account_id}/ai/run/{model}\",\n",
    "    headers={\"Authorization\": f\"Bearer {api_token}\"},\n",
    "    data=image_request.content\n",
    ")\n",
    "\n",
    "inference = response.json()\n",
    "inference"
   ]
  }
 ],
 "metadata": {
  "kernelspec": {
   "display_name": "Python 3 (ipykernel)",
   "language": "python",
   "name": "python3"
  },
  "language_info": {
   "codemirror_mode": {
    "name": "ipython",
    "version": 3
   },
   "file_extension": ".py",
   "mimetype": "text/x-python",
   "name": "python",
   "nbconvert_exporter": "python",
   "pygments_lexer": "ipython3",
   "version": "3.12.1"
  }
 },
 "nbformat": 4,
 "nbformat_minor": 5
}
