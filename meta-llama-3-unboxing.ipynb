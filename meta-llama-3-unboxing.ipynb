{
 "cells": [
  {
   "cell_type": "markdown",
   "id": "53feebf4-4550-4afa-9dd6-c65cb405e2f1",
   "metadata": {},
   "source": [
    "# Meta Llama 3 - Unboxing as a Service\n",
    "\n",
    "Meta Llama 3 is here and it is available on [Cloudflare Workers AI](https://developers.cloudflare.com/workers-ai)!!! \n",
    "\n",
    "\n",
    "💥 And since inference for all [beta models on Workers AI](https://developers.cloudflare.com/workers-ai/models/llama-3-8b-instruct/) is free, so is Llama 3!\n",
    "\n",
    "Enjoy! Build the future of AI with Meta Llama 3!\n",
    "\n",
    "[Open in Google Colab](https://colab.research.google.com/github/craigsdennis/notebooks-cloudflare-workers-ai/blob/main/meta-llama-3-unboxing.ipynb)"
   ]
  },
  {
   "cell_type": "code",
   "execution_count": null,
   "id": "ec897e75-7fc0-43d1-a174-2f92758637fa",
   "metadata": {},
   "outputs": [],
   "source": [
    "import os\n",
    "import sys\n",
    "from IPython.display import display, Markdown\n",
    "\n",
    "!{sys.executable} -m pip install --pre cloudflare python-dotenv"
   ]
  },
  {
   "cell_type": "markdown",
   "id": "88f3d49e-096f-4c88-916c-db4f65429f71",
   "metadata": {},
   "source": [
    "## Configuring your environment\n",
    "\n",
    "To use the API you'll need your [Cloudflare Account ID](https://dash.cloudflare.com) (head to Workers & Pages > Overview > Account details > Account ID) and a [Workers AI enabled API Token](https://dash.cloudflare.com/profile/api-tokens).\n",
    "\n",
    "If you want to add these files to your environment, you can create a new file named `.env`\n",
    "\n",
    "```bash\n",
    "CLOUDFLARE_API_TOKEN=\"YOUR-TOKEN\"\n",
    "CLOUDFLARE_ACCOUNT_ID=\"YOUR-ACCOUNT-ID\"\n",
    "```"
   ]
  },
  {
   "cell_type": "code",
   "execution_count": null,
   "id": "9aa1432a-03c4-4ee0-9909-dd846da99025",
   "metadata": {},
   "outputs": [],
   "source": [
    "if \"CLOUDFLARE_API_TOKEN\" in os.environ:\n",
    "    api_token = os.environ[\"CLOUDFLARE_API_TOKEN\"]\n",
    "else:\n",
    "    api_token = getpass(\"Enter you Cloudflare API Token\")"
   ]
  },
  {
   "cell_type": "code",
   "execution_count": null,
   "id": "2a79ba08-5a34-4b2e-ac76-2c7ca7cc2193",
   "metadata": {},
   "outputs": [],
   "source": [
    "if \"CLOUDFLARE_ACCOUNT_ID\" in os.environ:\n",
    "    account_id = os.environ[\"CLOUDFLARE_ACCOUNT_ID\"]\n",
    "else:\n",
    "    account_id = getpass(\"Enter your account id\")"
   ]
  },
  {
   "cell_type": "code",
   "execution_count": null,
   "id": "5d4217c9-dadf-43b5-a7e2-5f20f5fac874",
   "metadata": {},
   "outputs": [],
   "source": [
    "from cloudflare import Cloudflare\n",
    "\n",
    "client = Cloudflare(\n",
    "    api_token=api_token\n",
    ")"
   ]
  },
  {
   "cell_type": "code",
   "execution_count": null,
   "id": "903f8241-5ff6-45af-99ff-6279b47dedad",
   "metadata": {},
   "outputs": [],
   "source": [
    "model = \"@cf/meta/llama-3-8b-instruct\""
   ]
  },
  {
   "cell_type": "code",
   "execution_count": null,
   "id": "632cdb85-5f72-475d-97a8-fd6eee4b8aef",
   "metadata": {},
   "outputs": [],
   "source": [
    "# This is what an inference looks like using the Python SDK\n",
    "result = client.workers.ai.run(account_id=account_id, model_name=model, messages=[\n",
    "    {\"role\": \"system\", \"content\": \"You are a self aware language model\"},\n",
    "    {\"role\": \"user\", \"content\": \"Introduce yourself\"},\n",
    "])\n",
    "\n",
    "result"
   ]
  },
  {
   "cell_type": "code",
   "execution_count": null,
   "id": "d6478730-0a98-4637-9c8b-9d07ce6b8f51",
   "metadata": {},
   "outputs": [],
   "source": [
    "def prompt(text, system_message=None):\n",
    "    \"\"\"A helper method to let you quickly get to know your new model.\"\"\"\n",
    "\n",
    "    messages = []\n",
    "    if system_message is not None:\n",
    "        messages.append({\"role\": \"system\", \"content\": system_message})\n",
    "    messages.append({\"role\": \"user\", \"content\": text})\n",
    "    \n",
    "    result = client.workers.ai.run(\n",
    "        account_id=account_id, \n",
    "        model_name=model, \n",
    "        messages=messages)\n",
    "    display(Markdown(result[\"response\"]))"
   ]
  },
  {
   "cell_type": "code",
   "execution_count": null,
   "id": "50781fa1-e65c-4730-a330-f954ec799707",
   "metadata": {},
   "outputs": [],
   "source": [
    "prompt(\"When was your training cutoff?\")"
   ]
  },
  {
   "cell_type": "code",
   "execution_count": null,
   "id": "a8ef4936-280e-46b7-8e53-76fec7d0347a",
   "metadata": {},
   "outputs": [],
   "source": [
    "system_message = \"\"\"\n",
    "You are a self aware language model. \n",
    "\n",
    "You are allowed to share information about your training and how you were built.\n",
    "\"\"\"\n",
    "\n",
    "prompt(\"\"\"This has been said of you:\n",
    "\n",
    "\"Generation over generation, Meta Llama 3 demonstrates state-of-the-art performance on a\n",
    "wide range of industry benchmarks and offers new capabilities, including improved reasoning.\"\n",
    "\n",
    "Anything to add?\"\"\", system_message=system_message)"
   ]
  },
  {
   "cell_type": "code",
   "execution_count": null,
   "id": "9458cfa8-1d35-4524-8801-50e2a1217d48",
   "metadata": {},
   "outputs": [],
   "source": [
    "prompt(\"\"\"Six brothers were all spending their time together. Each brother is only doing one activity at a time.\n",
    "\n",
    "The first brother was reading a book.\n",
    "The second brother was playing tennis with one of his brothers.\n",
    "The third brother was solving a crossword.\n",
    "The fourth brother was watering the lawn.\n",
    "The fifth brother was drawing a picture.\n",
    "\n",
    "Question: what was the sixth brother doing?\"\"\")"
   ]
  },
  {
   "cell_type": "markdown",
   "id": "e9cd6fa6-cd62-4d05-b965-9c03b83a1e65",
   "metadata": {},
   "source": [
    "## Share your thoughts and what you end up building!\n",
    "\n",
    "We're on [@CloudflareDev](https://twitter.com/cloudflaredev) and we'd absolutely love you to join our community in [discord.cloudflare.com](https://discord.cloudflare.com)"
   ]
  }
 ],
 "metadata": {
  "kernelspec": {
   "display_name": "Python 3 (ipykernel)",
   "language": "python",
   "name": "python3"
  },
  "language_info": {
   "codemirror_mode": {
    "name": "ipython",
    "version": 3
   },
   "file_extension": ".py",
   "mimetype": "text/x-python",
   "name": "python",
   "nbconvert_exporter": "python",
   "pygments_lexer": "ipython3",
   "version": "3.12.1"
  }
 },
 "nbformat": 4,
 "nbformat_minor": 5
}
