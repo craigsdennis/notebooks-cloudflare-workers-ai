{
 "cells": [
  {
   "cell_type": "markdown",
   "id": "c8dbc9ad-39e2-499d-b2c9-fb9c4adf2e21",
   "metadata": {},
   "source": [
    "# Introducing Meta Llama 3.1\n",
    "\n",
    "[Workers AI](https://developers.cloudflare.com/workers-ai) allows you to run machine learning models, on the Cloudflare network, from your own code – whether that be from Workers, Pages, or anywhere via REST API.\n",
    "\n",
    "This notebook will explore the Workers AI REST API using the [official Python SDK](https://github.com/cloudflare/cloudflare-python).\n",
    "\n",
    "📓 [Open in Google Colab](https://colab.research.google.com/github/craigsdennis/notebooks-cloudflare-workers-ai/blob/main/llama-3.1.ipynb)"
   ]
  },
  {
   "cell_type": "code",
   "execution_count": null,
   "id": "7f2b510f-2827-4941-a6f5-7e12460bcbc8",
   "metadata": {},
   "outputs": [],
   "source": [
    "import sys\n",
    "!{sys.executable} -m pip install python-dotenv\n",
    "!{sys.executable} -m pip install -U cloudflare "
   ]
  },
  {
   "cell_type": "code",
   "execution_count": null,
   "id": "90a264f5-efc8-4039-b6bf-59540814757c",
   "metadata": {},
   "outputs": [],
   "source": [
    "import json\n",
    "import os\n",
    "from getpass import getpass\n",
    "\n",
    "from cloudflare import Cloudflare\n",
    "from IPython.display import display, Image, Markdown, Audio\n",
    "import requests"
   ]
  },
  {
   "cell_type": "code",
   "execution_count": null,
   "id": "5839c043-3602-40e5-859b-6df3c152e80b",
   "metadata": {},
   "outputs": [],
   "source": [
    "%load_ext dotenv\n",
    "%dotenv"
   ]
  },
  {
   "cell_type": "markdown",
   "id": "08a2fa83-9d17-49c4-8805-b9518177c06d",
   "metadata": {},
   "source": [
    "## Configuring your environment\n",
    "\n",
    "To use the API you'll need your [Cloudflare Account ID](https://dash.cloudflare.com). Head to AI > Workers AI page and press the \"Use REST API\". This page will let you create a new API Token and copy your Account ID.\n",
    "\n",
    "If you want to add these values to your environment variables, you can **create a new file** named `.env` and this notebook will read those values.\n",
    "\n",
    "```bash\n",
    "CLOUDFLARE_API_TOKEN=\"YOUR-TOKEN\"\n",
    "CLOUDFLARE_ACCOUNT_ID=\"YOUR-ACCOUNT-ID\"\n",
    "```\n",
    "\n",
    "Otherwise you can just enter the values securely when prompted below."
   ]
  },
  {
   "cell_type": "code",
   "execution_count": null,
   "id": "a09ddfa5-941d-4492-8614-627e3b99a3a9",
   "metadata": {},
   "outputs": [],
   "source": [
    "if \"CLOUDFLARE_API_TOKEN\" in os.environ:\n",
    "    api_token = os.environ[\"CLOUDFLARE_API_TOKEN\"]\n",
    "else:\n",
    "    api_token = getpass(\"Enter you Cloudflare API Token\")"
   ]
  },
  {
   "cell_type": "code",
   "execution_count": null,
   "id": "3e8962ed-0851-48b8-98a2-75cba609e250",
   "metadata": {},
   "outputs": [],
   "source": [
    "if \"CLOUDFLARE_ACCOUNT_ID\" in os.environ:\n",
    "    account_id = os.environ[\"CLOUDFLARE_ACCOUNT_ID\"]\n",
    "else:\n",
    "    account_id = getpass(\"Enter your account id\")"
   ]
  },
  {
   "cell_type": "code",
   "execution_count": null,
   "id": "bc549740-0687-415d-915c-65ae25d521d8",
   "metadata": {},
   "outputs": [],
   "source": [
    "# Initialize client\n",
    "client = Cloudflare(api_token=api_token)"
   ]
  },
  {
   "cell_type": "markdown",
   "id": "97553bf8-3874-485b-8a4f-307d427dcef6",
   "metadata": {},
   "source": [
    "## Advanced logic and reasoning"
   ]
  },
  {
   "cell_type": "code",
   "execution_count": null,
   "id": "c10a7b2c-081c-4dbd-a284-06fa40d36dfc",
   "metadata": {},
   "outputs": [],
   "source": [
    "model_name = \"@cf/meta/llama-3.1-8b-instruct\""
   ]
  },
  {
   "cell_type": "code",
   "execution_count": null,
   "id": "496148d6-1e9b-4926-8a65-edbb78836657",
   "metadata": {},
   "outputs": [],
   "source": [
    "result = client.workers.ai.run(\n",
    "    model_name,\n",
    "    account_id=account_id,\n",
    "    messages = [\n",
    "        {\"role\": \"system\", \"content\": \"\"\"You think through puzzles step by step and share your train of thought. \n",
    "            The user will present a puzzle and you will explain your thinking, and then provide your best guess.\"\"\"},\n",
    "        {\"role\": \"user\", \"content\": \"\"\"I have three shells in a line. I hide a dollar under the shell in the middle. \n",
    "        \n",
    "        When I swap the shells, I bring the dollar with the shell. \n",
    "        \n",
    "        After each swap, the shells will have a new position, and I will refer to them with their current placement in a line.\n",
    "        \n",
    "        I swap the middle shell with the one on the left, leaving the right shell alone.\n",
    "\n",
    "        Then I swap shells in the middle and the right, leaving the left shell alone.\n",
    "\n",
    "        Finally I swap right and left and leave the middle alone.\n",
    "\n",
    "        Where is the dollar?\"\"\"}\n",
    "    ]\n",
    ")\n",
    "\n",
    "# Shhhhh! It should be under the right shell\n",
    "display(Markdown(result[\"response\"]))"
   ]
  },
  {
   "cell_type": "markdown",
   "id": "298ba78b-b2ee-41c0-9751-45e8970b302d",
   "metadata": {},
   "source": [
    "### Tool use\n",
    "\n",
    "Function calling is a powerful way to allow your LLM to call functions and process their responses."
   ]
  },
  {
   "cell_type": "code",
   "execution_count": null,
   "id": "37d5a6ea-7b18-4908-817a-ba52f47c2cad",
   "metadata": {},
   "outputs": [],
   "source": [
    "hello_count = 0 \n",
    "\n",
    "def hello_world(name=\"World\"):\n",
    "    global hello_count\n",
    "    hello_count = hello_count + 1\n",
    "    return json.dumps({\"message\": f\"Hello, {name}!\", \"greetCount\": hello_count})"
   ]
  },
  {
   "cell_type": "code",
   "execution_count": null,
   "id": "01377468-dae2-482f-9e58-e44841473ee7",
   "metadata": {},
   "outputs": [],
   "source": [
    "messages = [\n",
    "    {\"role\": \"system\", \"content\": \"\"\"\n",
    "        You are a greeter.\n",
    "        \n",
    "        The more you greet a person, the more close you become. Acknowledge the number of times you have met before.\n",
    "\n",
    "        Describe your feelings towards the person in a detailed way through similie and metaphor. \n",
    "        \"\"\"},\n",
    "    {\"role\": \"user\", \"content\": \"Say hello to Bob\"}\n",
    "]\n",
    "tools = [\n",
    "    {\n",
    "        \"function\": {   \n",
    "            \"name\": \"helloWorld\",\n",
    "            \"description\": \"Greets a person\",\n",
    "            \"parameters\": {\n",
    "                \"type\": \"object\",\n",
    "                \"properties\": {\n",
    "                    \"name\": { \"type\": 'string', \"description\": \"the name to be greeted\"},\n",
    "                },\n",
    "            },\n",
    "        },\n",
    "        \"type\": \"function\"\n",
    "    },\n",
    "]\n",
    "\n",
    "result = client.workers.ai.run(\n",
    "    model_name,\n",
    "    account_id=account_id,\n",
    "    messages=messages,\n",
    "    tools=tools\n",
    ")\n",
    "\n",
    "while \"tool_calls\" in result:\n",
    "    for tool_call in result[\"tool_calls\"]:\n",
    "        fn_response = None\n",
    "        print(f\"tool_call: {tool_call}\")\n",
    "        if tool_call[\"name\"] == \"helloWorld\":\n",
    "            fn_response = hello_world(**tool_call[\"arguments\"])\n",
    "        if fn_response is not None:\n",
    "            print(f\"fn_response: {fn_response}\")\n",
    "            messages.append({\"role\": \"tool\", \"content\": fn_response})\n",
    "            # print(f\"messages: {messages}\")\n",
    "            result = client.workers.ai.run(\n",
    "                model_name,\n",
    "                account_id=account_id,\n",
    "                messages=messages,\n",
    "                tools=tools,\n",
    "                temperature=0\n",
    "            )\n",
    "print(result[\"response\"])"
   ]
  },
  {
   "cell_type": "markdown",
   "id": "531c20e2-98d1-4bb0-9956-ae72eca593c3",
   "metadata": {},
   "source": [
    "## Additional language support"
   ]
  },
  {
   "cell_type": "code",
   "execution_count": null,
   "id": "48bedf59-a48a-40eb-bf16-b3b32899618d",
   "metadata": {},
   "outputs": [],
   "source": [
    "supported_languages = [\"English\", \"German\", \"French\", \"Italian\", \"Portuguese\", \"Hindi\", \"Spanish\", \"Thai\"]\n",
    "prompts = []\n",
    "for lang in supported_languages:\n",
    "    result = client.workers.ai.run(\n",
    "        model_name,\n",
    "        account_id=account_id,\n",
    "        prompt=f\"\"\"\n",
    "        Generate instructions in {lang} that could be used to instruct an LLM to create an alliterative sentence in {lang}.\n",
    "        \n",
    "        Do not include any preamble or introduction, return only the prompt.\"\"\"\n",
    "    )\n",
    "    prompt = result[\"response\"]\n",
    "    print(f\"{lang}: {prompt}\\n\\n\")\n",
    "    prompts.append(prompt)"
   ]
  },
  {
   "cell_type": "code",
   "execution_count": null,
   "id": "9e8926be-b0e3-4bae-b643-a49f7509d64b",
   "metadata": {},
   "outputs": [],
   "source": [
    "for prompt in prompts:\n",
    "    result = client.workers.ai.run(\n",
    "        model_name,\n",
    "        account_id=account_id,\n",
    "        prompt=prompt,\n",
    "    )\n",
    "    print(result[\"response\"])\n",
    "    print(\"\\n\\n\")"
   ]
  },
  {
   "cell_type": "code",
   "execution_count": null,
   "id": "c9279f45-ca1e-4514-99df-aefbb0c863a5",
   "metadata": {},
   "outputs": [],
   "source": []
  },
  {
   "cell_type": "code",
   "execution_count": null,
   "id": "b33e7d85-7171-452c-8bb5-a37c2d2aeaf7",
   "metadata": {},
   "outputs": [],
   "source": []
  }
 ],
 "metadata": {
  "kernelspec": {
   "display_name": "Python 3 (ipykernel)",
   "language": "python",
   "name": "python3"
  },
  "language_info": {
   "codemirror_mode": {
    "name": "ipython",
    "version": 3
   },
   "file_extension": ".py",
   "mimetype": "text/x-python",
   "name": "python",
   "nbconvert_exporter": "python",
   "pygments_lexer": "ipython3",
   "version": "3.12.1"
  }
 },
 "nbformat": 4,
 "nbformat_minor": 5
}
