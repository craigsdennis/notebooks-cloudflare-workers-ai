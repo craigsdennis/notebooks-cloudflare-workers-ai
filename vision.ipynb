{
 "cells": [
  {
   "cell_type": "markdown",
   "id": "53feebf4-4550-4afa-9dd6-c65cb405e2f1",
   "metadata": {},
   "source": [
    "# Vision models\n",
    "\n",
    "💥 And since inference for all [beta models on Workers AI](https://developers.cloudflare.com/workers-ai/models/llava-1.5-7b-hf/) is free, so is Llava!\n",
    "\n",
    "[Open in Google Colab](https://colab.research.google.com/github/craigsdennis/notebooks-cloudflare-workers-ai/blob/main/vision.ipynb)"
   ]
  },
  {
   "cell_type": "code",
   "execution_count": 1,
   "id": "ec897e75-7fc0-43d1-a174-2f92758637fa",
   "metadata": {},
   "outputs": [
    {
     "name": "stdout",
     "output_type": "stream",
     "text": [
      "Requirement already satisfied: cloudflare in ./venv/lib/python3.12/site-packages (3.1.0)\n",
      "Requirement already satisfied: python-dotenv in ./venv/lib/python3.12/site-packages (1.0.1)\n",
      "Requirement already satisfied: requests in ./venv/lib/python3.12/site-packages (2.31.0)\n",
      "Requirement already satisfied: anyio<5,>=3.5.0 in ./venv/lib/python3.12/site-packages (from cloudflare) (4.2.0)\n",
      "Requirement already satisfied: distro<2,>=1.7.0 in ./venv/lib/python3.12/site-packages (from cloudflare) (1.9.0)\n",
      "Requirement already satisfied: httpx<1,>=0.23.0 in ./venv/lib/python3.12/site-packages (from cloudflare) (0.27.0)\n",
      "Requirement already satisfied: pydantic<3,>=1.9.0 in ./venv/lib/python3.12/site-packages (from cloudflare) (2.8.2)\n",
      "Requirement already satisfied: sniffio in ./venv/lib/python3.12/site-packages (from cloudflare) (1.3.0)\n",
      "Requirement already satisfied: typing-extensions<5,>=4.7 in ./venv/lib/python3.12/site-packages (from cloudflare) (4.12.2)\n",
      "Requirement already satisfied: charset-normalizer<4,>=2 in ./venv/lib/python3.12/site-packages (from requests) (3.3.2)\n",
      "Requirement already satisfied: idna<4,>=2.5 in ./venv/lib/python3.12/site-packages (from requests) (3.6)\n",
      "Requirement already satisfied: urllib3<3,>=1.21.1 in ./venv/lib/python3.12/site-packages (from requests) (2.1.0)\n",
      "Requirement already satisfied: certifi>=2017.4.17 in ./venv/lib/python3.12/site-packages (from requests) (2023.11.17)\n",
      "Requirement already satisfied: httpcore==1.* in ./venv/lib/python3.12/site-packages (from httpx<1,>=0.23.0->cloudflare) (1.0.5)\n",
      "Requirement already satisfied: h11<0.15,>=0.13 in ./venv/lib/python3.12/site-packages (from httpcore==1.*->httpx<1,>=0.23.0->cloudflare) (0.14.0)\n",
      "Requirement already satisfied: annotated-types>=0.4.0 in ./venv/lib/python3.12/site-packages (from pydantic<3,>=1.9.0->cloudflare) (0.7.0)\n",
      "Requirement already satisfied: pydantic-core==2.20.1 in ./venv/lib/python3.12/site-packages (from pydantic<3,>=1.9.0->cloudflare) (2.20.1)\n",
      "\n",
      "\u001b[1m[\u001b[0m\u001b[34;49mnotice\u001b[0m\u001b[1;39;49m]\u001b[0m\u001b[39;49m A new release of pip is available: \u001b[0m\u001b[31;49m23.3.2\u001b[0m\u001b[39;49m -> \u001b[0m\u001b[32;49m24.1.2\u001b[0m\n",
      "\u001b[1m[\u001b[0m\u001b[34;49mnotice\u001b[0m\u001b[1;39;49m]\u001b[0m\u001b[39;49m To update, run: \u001b[0m\u001b[32;49mpip install --upgrade pip\u001b[0m\n"
     ]
    }
   ],
   "source": [
    "import os\n",
    "import sys\n",
    "from getpass import getpass\n",
    "\n",
    "from IPython.display import display, Markdown\n",
    "\n",
    "!{sys.executable} -m pip install cloudflare python-dotenv requests"
   ]
  },
  {
   "cell_type": "code",
   "execution_count": 2,
   "id": "ca10d109-b61b-4a8a-a153-6ae65331f8cf",
   "metadata": {},
   "outputs": [],
   "source": [
    "import requests"
   ]
  },
  {
   "cell_type": "markdown",
   "id": "88f3d49e-096f-4c88-916c-db4f65429f71",
   "metadata": {},
   "source": [
    "## Configuring your environment\n",
    "\n",
    "To use the API you'll need your [Cloudflare Account ID](https://dash.cloudflare.com). Workers AI > Overview > Use REST API\n",
    "\n",
    "If you want to add these files to your environment, you can create a new file named `.env`\n",
    "\n",
    "```bash\n",
    "CLOUDFLARE_API_TOKEN=\"YOUR-TOKEN\"\n",
    "CLOUDFLARE_ACCOUNT_ID=\"YOUR-ACCOUNT-ID\"\n",
    "```"
   ]
  },
  {
   "cell_type": "code",
   "execution_count": 3,
   "id": "9aa1432a-03c4-4ee0-9909-dd846da99025",
   "metadata": {},
   "outputs": [],
   "source": [
    "if \"CLOUDFLARE_API_TOKEN\" in os.environ:\n",
    "    api_token = os.environ[\"CLOUDFLARE_API_TOKEN\"]\n",
    "else:\n",
    "    api_token = getpass(\"Enter you Cloudflare API Token\")"
   ]
  },
  {
   "cell_type": "code",
   "execution_count": 4,
   "id": "2a79ba08-5a34-4b2e-ac76-2c7ca7cc2193",
   "metadata": {},
   "outputs": [],
   "source": [
    "if \"CLOUDFLARE_ACCOUNT_ID\" in os.environ:\n",
    "    account_id = os.environ[\"CLOUDFLARE_ACCOUNT_ID\"]\n",
    "else:\n",
    "    account_id = getpass(\"Enter your account id\")"
   ]
  },
  {
   "cell_type": "code",
   "execution_count": 5,
   "id": "5d4217c9-dadf-43b5-a7e2-5f20f5fac874",
   "metadata": {},
   "outputs": [],
   "source": [
    "from cloudflare import Cloudflare\n",
    "\n",
    "client = Cloudflare(\n",
    "    api_token=api_token\n",
    ")"
   ]
  },
  {
   "cell_type": "code",
   "execution_count": 6,
   "id": "903f8241-5ff6-45af-99ff-6279b47dedad",
   "metadata": {},
   "outputs": [],
   "source": [
    "model = \"@cf/llava-hf/llava-1.5-7b-hf\""
   ]
  },
  {
   "cell_type": "code",
   "execution_count": 7,
   "id": "632cdb85-5f72-475d-97a8-fd6eee4b8aef",
   "metadata": {},
   "outputs": [
    {
     "data": {
      "text/plain": [
       "{'description': ' In the photo, a man is standing in front of a large burrito,'}"
      ]
     },
     "execution_count": 7,
     "metadata": {},
     "output_type": "execute_result"
    }
   ],
   "source": [
    "url = \"https://raw.githubusercontent.com/craigsdennis/notebooks-cloudflare-workers-ai/main/assets/craig-and-a-burrito.jpg\"\n",
    "image_request = requests.get(url, allow_redirects=True)\n",
    "\n",
    "\n",
    "# This is what an inference looks like using the Python SDK\n",
    "result = client.workers.ai.run(\n",
    "    account_id=account_id, \n",
    "    model_name=model,\n",
    "    image=list(image_request.content),\n",
    "    prompt=\"Describe what is happening in this photo\",\n",
    ")\n",
    "\n",
    "result"
   ]
  },
  {
   "cell_type": "code",
   "execution_count": 8,
   "id": "d6478730-0a98-4637-9c8b-9d07ce6b8f51",
   "metadata": {},
   "outputs": [],
   "source": [
    "def prompt(text, system_message=None):\n",
    "    \"\"\"A helper method to let you quickly get to know your new model.\"\"\"\n",
    "\n",
    "    messages = []\n",
    "    if system_message is not None:\n",
    "        messages.append({\"role\": \"system\", \"content\": system_message})\n",
    "    messages.append({\"role\": \"user\", \"content\": text})\n",
    "    \n",
    "    result = client.workers.ai.run(\n",
    "        account_id=account_id, \n",
    "        model_name=model, \n",
    "        messages=messages)\n",
    "    display(Markdown(result[\"response\"]))"
   ]
  },
  {
   "cell_type": "markdown",
   "id": "e9cd6fa6-cd62-4d05-b965-9c03b83a1e65",
   "metadata": {},
   "source": [
    "## Share your thoughts and what you end up building!\n",
    "\n",
    "We're on [@CloudflareDev](https://twitter.com/cloudflaredev) and we'd absolutely love you to join our community in [discord.cloudflare.com](https://discord.cloudflare.com)"
   ]
  }
 ],
 "metadata": {
  "kernelspec": {
   "display_name": "Python 3 (ipykernel)",
   "language": "python",
   "name": "python3"
  },
  "language_info": {
   "codemirror_mode": {
    "name": "ipython",
    "version": 3
   },
   "file_extension": ".py",
   "mimetype": "text/x-python",
   "name": "python",
   "nbconvert_exporter": "python",
   "pygments_lexer": "ipython3",
   "version": "3.12.1"
  }
 },
 "nbformat": 4,
 "nbformat_minor": 5
}
