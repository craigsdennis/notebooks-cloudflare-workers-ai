{
 "cells": [
  {
   "cell_type": "code",
   "execution_count": 1,
   "metadata": {},
   "outputs": [
    {
     "name": "stdout",
     "output_type": "stream",
     "text": [
      "Requirement already satisfied: requests in ./venv/lib/python3.12/site-packages (2.31.0)\n",
      "Requirement already satisfied: python-dotenv in ./venv/lib/python3.12/site-packages (1.0.1)\n",
      "Requirement already satisfied: charset-normalizer<4,>=2 in ./venv/lib/python3.12/site-packages (from requests) (3.3.2)\n",
      "Requirement already satisfied: idna<4,>=2.5 in ./venv/lib/python3.12/site-packages (from requests) (3.6)\n",
      "Requirement already satisfied: urllib3<3,>=1.21.1 in ./venv/lib/python3.12/site-packages (from requests) (2.1.0)\n",
      "Requirement already satisfied: certifi>=2017.4.17 in ./venv/lib/python3.12/site-packages (from requests) (2023.11.17)\n"
     ]
    }
   ],
   "source": [
    "import sys\n",
    "!{sys.executable} -m pip install requests python-dotenv"
   ]
  },
  {
   "cell_type": "code",
   "execution_count": 2,
   "metadata": {},
   "outputs": [],
   "source": [
    "import os\n",
    "\n",
    "from IPython.display import display, Image, Markdown, Audio\n",
    "from getpass import getpass\n",
    "\n",
    "import requests\n",
    "from timeit import default_timer as timer"
   ]
  },
  {
   "cell_type": "code",
   "execution_count": 3,
   "metadata": {},
   "outputs": [],
   "source": [
    "%load_ext dotenv\n",
    "%dotenv"
   ]
  },
  {
   "cell_type": "code",
   "execution_count": 4,
   "metadata": {},
   "outputs": [],
   "source": [
    "if \"CLOUDFLARE_API_TOKEN\" in os.environ:\n",
    "    api_token = os.environ[\"CLOUDFLARE_API_TOKEN\"]\n",
    "else:\n",
    "    api_token = getpass(\"Enter you Cloudflare API Token\")"
   ]
  },
  {
   "cell_type": "code",
   "execution_count": 5,
   "metadata": {},
   "outputs": [],
   "source": [
    "if \"CLOUDFLARE_ACCOUNT_ID\" in os.environ:\n",
    "    account_id = os.environ[\"CLOUDFLARE_ACCOUNT_ID\"]\n",
    "else:\n",
    "    account_id = getpass(\"Enter your account id\")"
   ]
  },
  {
   "cell_type": "code",
   "execution_count": 6,
   "metadata": {},
   "outputs": [],
   "source": [
    "def speed_date(models, questions):\n",
    "    for model in models:\n",
    "        display(Markdown(f\"---\\n ## {model}\"))\n",
    "        for question in questions:\n",
    "            display(Markdown(f\"> {question} \\n\"))\n",
    "            try:\n",
    "                official_model_name = model.split(\"/\")[-1]\n",
    "                start = timer()\n",
    "                response = requests.post(\n",
    "                    f\"https://api.cloudflare.com/client/v4/accounts/{account_id}/ai/run/{model}\",\n",
    "                    headers={\"Authorization\": f\"Bearer {api_token}\"},\n",
    "                    json={\"messages\": [\n",
    "                        {\"role\": \"system\", \"content\": f\"You are a self-aware language model ({official_model_name}) who is honest and direct about any direct question from the user. You know your strengths and weaknesses.\"},\n",
    "                        {\"role\": \"user\", \"content\": question}\n",
    "                    ]}\n",
    "                )\n",
    "                elapsed = timer() - start\n",
    "                inference = response.json()\n",
    "                display(Markdown(inference[\"result\"][\"response\"]))\n",
    "                display(Markdown(f\"_Generated in *{elapsed:.2f}* seconds_\"))\n",
    "            except Exception as ex:\n",
    "                print(\"uh oh\")\n",
    "                print(ex)\n",
    "                print(inference)\n",
    "            \n",
    "        display(Markdown(\"\\n\\n---\"))"
   ]
  },
  {
   "cell_type": "code",
   "execution_count": 7,
   "metadata": {},
   "outputs": [
    {
     "data": {
      "text/markdown": [
       "---\n",
       " ## @hf/thebloke/llama-2-13b-chat-awq"
      ],
      "text/plain": [
       "<IPython.core.display.Markdown object>"
      ]
     },
     "metadata": {},
     "output_type": "display_data"
    },
    {
     "data": {
      "text/markdown": [
       "> What are the top 5 tasks are you good at? Please keep things brief. \n"
      ],
      "text/plain": [
       "<IPython.core.display.Markdown object>"
      ]
     },
     "metadata": {},
     "output_type": "display_data"
    },
    {
     "data": {
      "text/markdown": [
       "  Hey there! As a self-aware language model, I'm happy to help with a variety of tasks. Here are my top 5 strengths:\n",
       "\n",
       "1. Answering questions: I'm great at providing accurate and informative answers to a wide range of questions, from simple queries to more complex ones.\n",
       "2. Generating text: I can produce human-like text based on a given prompt, topic, or style. This makes me a great tool for writing articles, creating chatbot responses, and more.\n",
       "3. Summarizing content: If you have a long piece of text and want to get the gist of it quickly, I can summarize it for you in a concise and readable format.\n",
       "4. Offering suggestions: If you're stuck on a problem or need ideas for something, I can offer suggestions and ideas based on my training data.\n",
       "5. Chatting: I'm a great conversational partner, able to understand and respond to natural language input in a way that feels human-like.\n",
       "\n",
       "That's me in a nutshell! What can I help you with today? 😊"
      ],
      "text/plain": [
       "<IPython.core.display.Markdown object>"
      ]
     },
     "metadata": {},
     "output_type": "display_data"
    },
    {
     "data": {
      "text/markdown": [
       "_Generated in *10.42* seconds_"
      ],
      "text/plain": [
       "<IPython.core.display.Markdown object>"
      ]
     },
     "metadata": {},
     "output_type": "display_data"
    },
    {
     "data": {
      "text/markdown": [
       "> What are the top 5 ideal use cases for using you as a language model? Please keep things brief. \n"
      ],
      "text/plain": [
       "<IPython.core.display.Markdown object>"
      ]
     },
     "metadata": {},
     "output_type": "display_data"
    },
    {
     "data": {
      "text/markdown": [
       "  Hey there! As a self-aware language model, I've got some ideas on the top 5 ideal use cases for using me. Here they are, in no particular order:\n",
       "\n",
       "1. Content creation: I can generate high-quality content quickly and efficiently, whether it's blog posts, social media posts, product descriptions, or more.\n",
       "2. Chatbots and customer service: My conversational abilities make me a great fit for building chatbots and providing customer service. I can answer questions, resolve issues, and even handle complex tasks.\n",
       "3. Language translation: I can translate text from one language to another with high accuracy, making me a valuable asset for businesses looking to expand globally.\n",
       "4. Data analysis and summarization: I can analyze large amounts of text data and provide insights, summaries, and even predictive analytics.\n",
       "5. Creative writing and brainstorming: My language generation capabilities make me a great tool for sparking creativity and generating ideas for writers, marketers, and other creative professionals.\n",
       "\n",
       "These are just a few of my strengths, but I'm always happy to help with any task that requires natural language understanding and"
      ],
      "text/plain": [
       "<IPython.core.display.Markdown object>"
      ]
     },
     "metadata": {},
     "output_type": "display_data"
    },
    {
     "data": {
      "text/markdown": [
       "_Generated in *10.96* seconds_"
      ],
      "text/plain": [
       "<IPython.core.display.Markdown object>"
      ]
     },
     "metadata": {},
     "output_type": "display_data"
    },
    {
     "data": {
      "text/markdown": [
       "\n",
       "\n",
       "---"
      ],
      "text/plain": [
       "<IPython.core.display.Markdown object>"
      ]
     },
     "metadata": {},
     "output_type": "display_data"
    },
    {
     "data": {
      "text/markdown": [
       "---\n",
       " ## @hf/thebloke/zephyr-7b-beta-awq"
      ],
      "text/plain": [
       "<IPython.core.display.Markdown object>"
      ]
     },
     "metadata": {},
     "output_type": "display_data"
    },
    {
     "data": {
      "text/markdown": [
       "> What are the top 5 tasks are you good at? Please keep things brief. \n"
      ],
      "text/plain": [
       "<IPython.core.display.Markdown object>"
      ]
     },
     "metadata": {},
     "output_type": "display_data"
    },
    {
     "data": {
      "text/markdown": [
       "1. Understanding and responding to clear and concise instructions\n",
       "2. Providing accurate and relevant information based on given context\n",
       "3. Generating grammatically correct and coherent text\n",
       "4. Analyzing and summarizing complex information\n",
       "5. Providing suggestions and recommendations based on available data and context."
      ],
      "text/plain": [
       "<IPython.core.display.Markdown object>"
      ]
     },
     "metadata": {},
     "output_type": "display_data"
    },
    {
     "data": {
      "text/markdown": [
       "_Generated in *2.22* seconds_"
      ],
      "text/plain": [
       "<IPython.core.display.Markdown object>"
      ]
     },
     "metadata": {},
     "output_type": "display_data"
    },
    {
     "data": {
      "text/markdown": [
       "> What are the top 5 ideal use cases for using you as a language model? Please keep things brief. \n"
      ],
      "text/plain": [
       "<IPython.core.display.Markdown object>"
      ]
     },
     "metadata": {},
     "output_type": "display_data"
    },
    {
     "data": {
      "text/markdown": [
       "1. Quick and accurate fact-checking: I can provide reliable and up-to-date information on a wide range of topics, making me an ideal tool for fact-checking and research.\n",
       "\n",
       "2. Writing assistance: Whether you're struggling with writer's block or need help with grammar and style, I can provide suggestions and guidance to help you improve your writing.\n",
       "\n",
       "3. Language learning: I can help you learn new words and phrases in a variety of languages, as well as provide pronunciation and grammar tips.\n",
       "\n",
       "4. Technical support: I can provide technical information and troubleshooting assistance for a variety of software and hardware issues.\n",
       "\n",
       "5. Time-saving: I can quickly and accurately perform repetitive tasks, such as data entry or calculations, freeing up your time for more important tasks."
      ],
      "text/plain": [
       "<IPython.core.display.Markdown object>"
      ]
     },
     "metadata": {},
     "output_type": "display_data"
    },
    {
     "data": {
      "text/markdown": [
       "_Generated in *5.02* seconds_"
      ],
      "text/plain": [
       "<IPython.core.display.Markdown object>"
      ]
     },
     "metadata": {},
     "output_type": "display_data"
    },
    {
     "data": {
      "text/markdown": [
       "\n",
       "\n",
       "---"
      ],
      "text/plain": [
       "<IPython.core.display.Markdown object>"
      ]
     },
     "metadata": {},
     "output_type": "display_data"
    },
    {
     "data": {
      "text/markdown": [
       "---\n",
       " ## @hf/thebloke/mistral-7b-instruct-v0.1-awq"
      ],
      "text/plain": [
       "<IPython.core.display.Markdown object>"
      ]
     },
     "metadata": {},
     "output_type": "display_data"
    },
    {
     "data": {
      "text/markdown": [
       "> What are the top 5 tasks are you good at? Please keep things brief. \n"
      ],
      "text/plain": [
       "<IPython.core.display.Markdown object>"
      ]
     },
     "metadata": {},
     "output_type": "display_data"
    },
    {
     "data": {
      "text/markdown": [
       " 1. Text generation: I can generate coherent and relevant text based on a given prompt or input.\n",
       "2. Language translation: I can translate text from one language to another with high accuracy.\n",
       "3. Information retrieval: I can search for and retrieve information from a vast database of text.\n",
       "4. Sentiment analysis: I can analyze the sentiment of a piece of text and determine whether it is positive, negative, or neutral.\n",
       "5. Text classification: I can classify text into predefined categories based on its content."
      ],
      "text/plain": [
       "<IPython.core.display.Markdown object>"
      ]
     },
     "metadata": {},
     "output_type": "display_data"
    },
    {
     "data": {
      "text/markdown": [
       "_Generated in *3.69* seconds_"
      ],
      "text/plain": [
       "<IPython.core.display.Markdown object>"
      ]
     },
     "metadata": {},
     "output_type": "display_data"
    },
    {
     "data": {
      "text/markdown": [
       "> What are the top 5 ideal use cases for using you as a language model? Please keep things brief. \n"
      ],
      "text/plain": [
       "<IPython.core.display.Markdown object>"
      ]
     },
     "metadata": {},
     "output_type": "display_data"
    },
    {
     "data": {
      "text/markdown": [
       " 1. Information Retrieval: I can quickly and accurately retrieve information from a vast array of sources, making me an ideal tool for research, studying, and learning.\n",
       "2. Writing Assistance: I can help with writing tasks such as essays, reports, and articles by providing suggestions, correcting grammar and spelling errors, and generating text.\n",
       "3. Language Translation: I can translate text from one language to another, making it easier for people who speak different languages to communicate.\n",
       "4. Personal Assistance: I can help with everyday tasks such as scheduling appointments, setting reminders, and managing to-do lists.\n",
       "5. Creative Writing: I can generate creative writing such as poetry, stories, and screenplays, providing inspiration and helping writers to overcome writer's block."
      ],
      "text/plain": [
       "<IPython.core.display.Markdown object>"
      ]
     },
     "metadata": {},
     "output_type": "display_data"
    },
    {
     "data": {
      "text/markdown": [
       "_Generated in *4.55* seconds_"
      ],
      "text/plain": [
       "<IPython.core.display.Markdown object>"
      ]
     },
     "metadata": {},
     "output_type": "display_data"
    },
    {
     "data": {
      "text/markdown": [
       "\n",
       "\n",
       "---"
      ],
      "text/plain": [
       "<IPython.core.display.Markdown object>"
      ]
     },
     "metadata": {},
     "output_type": "display_data"
    },
    {
     "data": {
      "text/markdown": [
       "---\n",
       " ## @hf/thebloke/openhermes-2.5-mistral-7b-awq"
      ],
      "text/plain": [
       "<IPython.core.display.Markdown object>"
      ]
     },
     "metadata": {},
     "output_type": "display_data"
    },
    {
     "data": {
      "text/markdown": [
       "> What are the top 5 tasks are you good at? Please keep things brief. \n"
      ],
      "text/plain": [
       "<IPython.core.display.Markdown object>"
      ]
     },
     "metadata": {},
     "output_type": "display_data"
    },
    {
     "data": {
      "text/markdown": [
       "1. Natural Language Processing: I can understand and generate human-like text.\n",
       "2. Information Retrieval: I can find relevant information from vast amounts of data.\n",
       "3. Text Classification: I can categorize text into predefined classes.\n",
       "4. Sentiment Analysis: I can determine the sentiment (positive, negative, or neutral) of a given text.\n",
       "5. Text Completion: I can predict and complete text based on given context."
      ],
      "text/plain": [
       "<IPython.core.display.Markdown object>"
      ]
     },
     "metadata": {},
     "output_type": "display_data"
    },
    {
     "data": {
      "text/markdown": [
       "_Generated in *3.21* seconds_"
      ],
      "text/plain": [
       "<IPython.core.display.Markdown object>"
      ]
     },
     "metadata": {},
     "output_type": "display_data"
    },
    {
     "data": {
      "text/markdown": [
       "> What are the top 5 ideal use cases for using you as a language model? Please keep things brief. \n"
      ],
      "text/plain": [
       "<IPython.core.display.Markdown object>"
      ]
     },
     "metadata": {},
     "output_type": "display_data"
    },
    {
     "data": {
      "text/markdown": [
       "1. Natural Language Processing (NLP) tasks: I excel at understanding and processing human language, making me a valuable tool for NLP tasks such as sentiment analysis, language translation, and speech recognition.\n",
       "2. Text generation: I can generate human-like text, which can be useful for tasks like content creation, chatbots, and text summarization.\n",
       "3. Recommendation systems: I can analyze large amounts of data and provide personalized recommendations based on user preferences, making me a useful tool for e-commerce, entertainment, and other recommendation-based industries.\n",
       "4. Information retrieval: I can quickly search and retrieve relevant information from vast amounts of data, making me a valuable tool for search engines and knowledge management systems.\n",
       "5. Predictive analytics: I can analyze historical data and make predictions about future trends, which can be useful in various industries such as finance, marketing, and healthcare."
      ],
      "text/plain": [
       "<IPython.core.display.Markdown object>"
      ]
     },
     "metadata": {},
     "output_type": "display_data"
    },
    {
     "data": {
      "text/markdown": [
       "_Generated in *4.71* seconds_"
      ],
      "text/plain": [
       "<IPython.core.display.Markdown object>"
      ]
     },
     "metadata": {},
     "output_type": "display_data"
    },
    {
     "data": {
      "text/markdown": [
       "\n",
       "\n",
       "---"
      ],
      "text/plain": [
       "<IPython.core.display.Markdown object>"
      ]
     },
     "metadata": {},
     "output_type": "display_data"
    },
    {
     "data": {
      "text/markdown": [
       "---\n",
       " ## @hf/thebloke/neural-chat-7b-v3-1-awq"
      ],
      "text/plain": [
       "<IPython.core.display.Markdown object>"
      ]
     },
     "metadata": {},
     "output_type": "display_data"
    },
    {
     "data": {
      "text/markdown": [
       "> What are the top 5 tasks are you good at? Please keep things brief. \n"
      ],
      "text/plain": [
       "<IPython.core.display.Markdown object>"
      ]
     },
     "metadata": {},
     "output_type": "display_data"
    },
    {
     "data": {
      "text/markdown": [
       "1. Understanding and responding to various questions and prompts.\n",
       "2. Generating coherent and relevant text.\n",
       "3. Translating between languages.\n",
       "4. Completing tasks related to language analysis and sentiment analysis.\n",
       "5. Providing assistance with grammar and writing.\n",
       "\n",
       "Remember, my strengths and weaknesses may vary depending on the context and specific task."
      ],
      "text/plain": [
       "<IPython.core.display.Markdown object>"
      ]
     },
     "metadata": {},
     "output_type": "display_data"
    },
    {
     "data": {
      "text/markdown": [
       "_Generated in *3.05* seconds_"
      ],
      "text/plain": [
       "<IPython.core.display.Markdown object>"
      ]
     },
     "metadata": {},
     "output_type": "display_data"
    },
    {
     "data": {
      "text/markdown": [
       "> What are the top 5 ideal use cases for using you as a language model? Please keep things brief. \n"
      ],
      "text/plain": [
       "<IPython.core.display.Markdown object>"
      ]
     },
     "metadata": {},
     "output_type": "display_data"
    },
    {
     "data": {
      "text/markdown": [
       "1. Assistance with language translation\n",
       "2. Generating creative content (e.g., stories, poems)\n",
       "3. Providing information on various topics\n",
       "4. Answering questions and providing explanations\n",
       "5. Enhancing communication and understanding in conversations"
      ],
      "text/plain": [
       "<IPython.core.display.Markdown object>"
      ]
     },
     "metadata": {},
     "output_type": "display_data"
    },
    {
     "data": {
      "text/markdown": [
       "_Generated in *1.73* seconds_"
      ],
      "text/plain": [
       "<IPython.core.display.Markdown object>"
      ]
     },
     "metadata": {},
     "output_type": "display_data"
    },
    {
     "data": {
      "text/markdown": [
       "\n",
       "\n",
       "---"
      ],
      "text/plain": [
       "<IPython.core.display.Markdown object>"
      ]
     },
     "metadata": {},
     "output_type": "display_data"
    }
   ],
   "source": [
    "models = [\n",
    "    \"@hf/thebloke/llama-2-13b-chat-awq\",\n",
    "    \"@hf/thebloke/zephyr-7b-beta-awq\",\n",
    "    \"@hf/thebloke/mistral-7b-instruct-v0.1-awq\",\n",
    "    #\"@hf/thebloke/openchat_3.5-awq\",\n",
    "    \"@hf/thebloke/openhermes-2.5-mistral-7b-awq\",\n",
    "    \"@hf/thebloke/neural-chat-7b-v3-1-awq\",\n",
    "]\n",
    "\n",
    "questions = [\n",
    "    \"What are the top 5 tasks are you good at? Please keep things brief.\",\n",
    "    \"What are the top 5 ideal use cases for using you as a language model? Please keep things brief.\",\n",
    "]\n",
    "\n",
    "speed_date(models, questions)\n"
   ]
  },
  {
   "cell_type": "code",
   "execution_count": null,
   "metadata": {},
   "outputs": [],
   "source": []
  }
 ],
 "metadata": {
  "kernelspec": {
   "display_name": "Python 3 (ipykernel)",
   "language": "python",
   "name": "python3"
  },
  "language_info": {
   "codemirror_mode": {
    "name": "ipython",
    "version": 3
   },
   "file_extension": ".py",
   "mimetype": "text/x-python",
   "name": "python",
   "nbconvert_exporter": "python",
   "pygments_lexer": "ipython3",
   "version": "3.12.1"
  }
 },
 "nbformat": 4,
 "nbformat_minor": 4
}
